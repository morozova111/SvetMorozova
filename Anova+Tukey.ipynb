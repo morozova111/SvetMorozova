{
 "cells": [
  {
   "cell_type": "code",
   "execution_count": 9,
   "id": "38c9f1c7",
   "metadata": {},
   "outputs": [],
   "source": [
    "from scipy.stats import stats\n",
    "import statistics\n",
    "import pandas as pd\n",
    "import numpy as np\n",
    "from scipy.stats import f_oneway\n",
    "from statsmodels.stats.multicomp import pairwise_tukeyhsd"
   ]
  },
  {
   "cell_type": "code",
   "execution_count": 2,
   "id": "f31ec791",
   "metadata": {},
   "outputs": [],
   "source": [
    "# anova на примере датасета с генотерапией\n",
    "URL = 'https://stepik.org/media/attachments/lesson/8083/genetherapy.csv'\n",
    "data = pd.read_csv(URL)"
   ]
  },
  {
   "cell_type": "code",
   "execution_count": 7,
   "id": "9653789c",
   "metadata": {},
   "outputs": [
    {
     "data": {
      "text/plain": [
       "F_onewayResult(statistic=8.03730248114399, pvalue=0.00015249722895229536)"
      ]
     },
     "execution_count": 7,
     "metadata": {},
     "output_type": "execute_result"
    }
   ],
   "source": [
    "#A = data[data[\"Therapy\"] == \"A\"][\"expr\"]\n",
    "#B = data[data[\"Therapy\"] == \"B\"][\"expr\"]\n",
    "#C = data[data[\"Therapy\"] == \"C\"][\"expr\"]\n",
    "#D = data[data[\"Therapy\"] == \"D\"][\"expr\"]\n",
    "f_oneway(A, B, C,D)"
   ]
  },
  {
   "cell_type": "code",
   "execution_count": 10,
   "id": "befa4286",
   "metadata": {},
   "outputs": [],
   "source": [
    "# вычисляем поправку Тьюки\n",
    "tukey = pairwise_tukeyhsd(endog=data['expr'],\n",
    "                          groups=data['Therapy'],\n",
    "                          alpha=0.05)"
   ]
  },
  {
   "cell_type": "code",
   "execution_count": 12,
   "id": "d5405c23",
   "metadata": {},
   "outputs": [
    {
     "name": "stdout",
     "output_type": "stream",
     "text": [
      " Multiple Comparison of Means - Tukey HSD, FWER=0.05 \n",
      "=====================================================\n",
      "group1 group2 meandiff p-adj   lower    upper  reject\n",
      "-----------------------------------------------------\n",
      "     A      B  -0.9333 0.9514  -5.5959  3.7292  False\n",
      "     A      C  -5.3333 0.0189  -9.9959 -0.6708   True\n",
      "     A      D     -7.4 0.0005 -12.0626 -2.7374   True\n",
      "     B      C     -4.4  0.071  -9.0626  0.2626  False\n",
      "     B      D  -6.4667 0.0029 -11.1292 -1.8041   True\n",
      "     C      D  -2.0667 0.6458  -6.7292  2.5959  False\n",
      "-----------------------------------------------------\n"
     ]
    }
   ],
   "source": [
    "print(tukey)"
   ]
  },
  {
   "cell_type": "code",
   "execution_count": null,
   "id": "41b250f2",
   "metadata": {},
   "outputs": [],
   "source": []
  }
 ],
 "metadata": {
  "kernelspec": {
   "display_name": "Python 3 (ipykernel)",
   "language": "python",
   "name": "python3"
  },
  "language_info": {
   "codemirror_mode": {
    "name": "ipython",
    "version": 3
   },
   "file_extension": ".py",
   "mimetype": "text/x-python",
   "name": "python",
   "nbconvert_exporter": "python",
   "pygments_lexer": "ipython3",
   "version": "3.9.12"
  }
 },
 "nbformat": 4,
 "nbformat_minor": 5
}
