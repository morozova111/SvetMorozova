{
  "nbformat": 4,
  "nbformat_minor": 0,
  "metadata": {
    "colab": {
      "provenance": [],
      "authorship_tag": "ABX9TyMeaLvIASAEpFh9NkuYs3yX",
      "include_colab_link": true
    },
    "kernelspec": {
      "name": "python3",
      "display_name": "Python 3"
    },
    "language_info": {
      "name": "python"
    }
  },
  "cells": [
    {
      "cell_type": "markdown",
      "metadata": {
        "id": "view-in-github",
        "colab_type": "text"
      },
      "source": [
        "<a href=\"https://colab.research.google.com/github/morozova111/SvetMorozova/blob/main/%D0%9B%D0%B8%D0%BD%D0%B5%D0%B9%D0%BD%D0%B0%D1%8F_%D1%80%D0%B5%D0%B3%D1%80%D0%B5%D1%81%D1%81%D0%B8%D1%8F.ipynb\" target=\"_parent\"><img src=\"https://colab.research.google.com/assets/colab-badge.svg\" alt=\"Open In Colab\"/></a>"
      ]
    },
    {
      "cell_type": "code",
      "execution_count": 2,
      "metadata": {
        "colab": {
          "base_uri": "https://localhost:8080/"
        },
        "id": "l0Pvj4vy-K1K",
        "outputId": "04d737a9-cef5-4b61-9127-0cd20170f332"
      },
      "outputs": [
        {
          "output_type": "stream",
          "name": "stdout",
          "text": [
            "Mounted at /content/drive\n"
          ]
        }
      ],
      "source": [
        "from google.colab import drive\n",
        "drive.mount('/content/drive')"
      ]
    },
    {
      "cell_type": "code",
      "source": [
        "import matplotlib.pyplot as plt\n",
        "import random\n",
        "from scipy.stats import linregress"
      ],
      "metadata": {
        "id": "1KMvpri9-MaQ"
      },
      "execution_count": 3,
      "outputs": []
    },
    {
      "cell_type": "code",
      "source": [
        "N = 35 #число точек\n",
        "F = 0.5"
      ],
      "metadata": {
        "id": "c_meJNPi-NhH"
      },
      "execution_count": 4,
      "outputs": []
    },
    {
      "cell_type": "code",
      "source": [
        "random.seed()\n",
        "\n",
        "X = [random.uniform(0, 1) for i in range (N)]\n",
        "Y = [F * X[i] + (1 - F) * random.uniform(0, 1) for i  in range (N)]\n",
        "\n",
        "lr = linregress(X, Y)\n",
        "\n",
        "Yregr = [X[i] * lr.slope + lr.intercept for i in range(N)]\n",
        "\n",
        "figure_title = 'r = {0}. p = {1}'.format(lr.rvalue, lr.pvalue)\n",
        "\n",
        "plt.scatter(X, Y)\n",
        "\n",
        "plt.title(figure_title)\n",
        "plt.plot(X, Yregr, color='red')\n",
        "\n",
        "plt.show()"
      ],
      "metadata": {
        "colab": {
          "base_uri": "https://localhost:8080/",
          "height": 281
        },
        "id": "K8V1Um3j-Pm_",
        "outputId": "af48312e-85af-4889-8301-413990b69450"
      },
      "execution_count": 5,
      "outputs": [
        {
          "output_type": "display_data",
          "data": {
            "text/plain": [
              "<Figure size 432x288 with 1 Axes>"
            ],
            "image/png": "[encoded data removed]"
          },
          "metadata": {
            "needs_background": "light"
          }
        }
      ]
    }
  ]
}