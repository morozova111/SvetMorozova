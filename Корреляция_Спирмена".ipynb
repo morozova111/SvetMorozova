{
  "nbformat": 4,
  "nbformat_minor": 0,
  "metadata": {
    "colab": {
      "provenance": [],
      "authorship_tag": "ABX9TyN2rDTtSkjod/VPcEpcTXfD",
      "include_colab_link": true
    },
    "kernelspec": {
      "name": "python3",
      "display_name": "Python 3"
    },
    "language_info": {
      "name": "python"
    }
  },
  "cells": [
    {
      "cell_type": "markdown",
      "metadata": {
        "id": "view-in-github",
        "colab_type": "text"
      },
      "source": [
        "<a href=\"https://colab.research.google.com/github/morozova111/SvetMorozova/blob/main/%D0%9A%D0%BE%D1%80%D1%80%D0%B5%D0%BB%D1%8F%D1%86%D0%B8%D1%8F_%D0%A1%D0%BF%D0%B8%D1%80%D0%BC%D0%B5%D0%BD%D0%B0%22.ipynb\" target=\"_parent\"><img src=\"https://colab.research.google.com/assets/colab-badge.svg\" alt=\"Open In Colab\"/></a>"
      ]
    },
    {
      "cell_type": "code",
      "execution_count": 2,
      "metadata": {
        "colab": {
          "base_uri": "https://localhost:8080/"
        },
        "id": "75rbOxiC-zk_",
        "outputId": "d4ee8f46-fa11-4ca7-ff92-8d4c470c041e"
      },
      "outputs": [
        {
          "output_type": "stream",
          "name": "stdout",
          "text": [
            "Mounted at /content/drive\n"
          ]
        }
      ],
      "source": [
        "from google.colab import drive\n",
        "drive.mount('/content/drive')"
      ]
    },
    {
      "cell_type": "markdown",
      "source": [
        "В статистике корреляция относится к силе и направлению связи между двумя переменными. Значение коэффициента корреляции может варьироваться от -1 до 1 со следующими интерпретациями:\n",
        "\n",
        "    -1: идеальная отрицательная связь между двумя переменными\n",
        "    0: нет связи между двумя переменными\n",
        "    1: идеальная положительная связь между двумя переменными"
      ],
      "metadata": {
        "id": "1K_DDv0Pol5r"
      }
    },
    {
      "cell_type": "markdown",
      "source": [
        "Он применяется для выявления взаимосвязи между двумя параметрами.  \n",
        "Корреляция Спирмена не предполагает нормального распределения обоих наборов данных"
      ],
      "metadata": {
        "id": "VnDsPM6Nrh8B"
      }
    },
    {
      "cell_type": "code",
      "source": [
        "import numpy as np\n",
        "import pandas as pd\n",
        "import plotly.express as px\n",
        "import seaborn as sns\n",
        "import matplotlib.pyplot as plt\n",
        "from scipy. stats import pearsonr\n",
        "import pylab\n"
      ],
      "metadata": {
        "id": "T6kf6TZRpf8b"
      },
      "execution_count": 13,
      "outputs": []
    },
    {
      "cell_type": "code",
      "source": [
        "from scipy import stats\n",
        "\n",
        "stats.spearmanr([1,2,3,4,5], [5,6,7,8,7])# "
      ],
      "metadata": {
        "id": "CUU_OEk1_E-8",
        "colab": {
          "base_uri": "https://localhost:8080/"
        },
        "outputId": "14cdb12a-c5cc-4540-d8ec-a391009a2114"
      },
      "execution_count": 5,
      "outputs": [
        {
          "output_type": "execute_result",
          "data": {
            "text/plain": [
              "SpearmanrResult(correlation=0.8207826816681233, pvalue=0.08858700531354381)"
            ]
          },
          "metadata": {},
          "execution_count": 5
        }
      ]
    },
    {
      "cell_type": "code",
      "source": [
        "\n",
        "rng = np.random.default_rng()\n",
        "\n",
        "x2n = rng.standard_normal((100, 2))\n",
        "\n",
        "y2n = rng.standard_normal((100, 2))\n",
        "\n",
        "stats.spearmanr(x2n)"
      ],
      "metadata": {
        "colab": {
          "base_uri": "https://localhost:8080/"
        },
        "id": "oYeM3GDxpaPD",
        "outputId": "75a17f36-9b82-4c8e-8f54-5d63710e0e52"
      },
      "execution_count": 8,
      "outputs": [
        {
          "output_type": "execute_result",
          "data": {
            "text/plain": [
              "SpearmanrResult(correlation=0.20950495049504947, pvalue=0.036439804905923794)"
            ]
          },
          "metadata": {},
          "execution_count": 8
        }
      ]
    },
    {
      "cell_type": "code",
      "source": [
        "stats.spearmanr(x2n[:,0], x2n[:,1])"
      ],
      "metadata": {
        "colab": {
          "base_uri": "https://localhost:8080/"
        },
        "id": "MM_sPgB5qGkC",
        "outputId": "2a78b8a8-9eb9-4b80-a851-20c5fa511845"
      },
      "execution_count": 9,
      "outputs": [
        {
          "output_type": "execute_result",
          "data": {
            "text/plain": [
              "SpearmanrResult(correlation=0.20950495049504947, pvalue=0.036439804905923794)"
            ]
          },
          "metadata": {},
          "execution_count": 9
        }
      ]
    },
    {
      "cell_type": "code",
      "source": [
        "rho, pval = stats.spearmanr(x2n, y2n)"
      ],
      "metadata": {
        "id": "gK-hpHauq3aB"
      },
      "execution_count": 17,
      "outputs": []
    },
    {
      "cell_type": "code",
      "source": [
        "rho"
      ],
      "metadata": {
        "colab": {
          "base_uri": "https://localhost:8080/"
        },
        "id": "bJsF6vgIq856",
        "outputId": "9e973ef6-cd6b-492b-943d-c7b3a3059cd4"
      },
      "execution_count": 18,
      "outputs": [
        {
          "output_type": "execute_result",
          "data": {
            "text/plain": [
              "array([[ 1.        ,  0.20950495, -0.04326433, -0.06269427],\n",
              "       [ 0.20950495,  1.        , -0.10275428,  0.01911791],\n",
              "       [-0.04326433, -0.10275428,  1.        ,  0.04738074],\n",
              "       [-0.06269427,  0.01911791,  0.04738074,  1.        ]])"
            ]
          },
          "metadata": {},
          "execution_count": 18
        }
      ]
    },
    {
      "cell_type": "code",
      "source": [
        "pval"
      ],
      "metadata": {
        "colab": {
          "base_uri": "https://localhost:8080/"
        },
        "id": "ep7yndlMq-pS",
        "outputId": "323a4235-4384-4ba5-a701-a14f403610fd"
      },
      "execution_count": 19,
      "outputs": [
        {
          "output_type": "execute_result",
          "data": {
            "text/plain": [
              "array([[0.        , 0.0364398 , 0.66908503, 0.53547473],\n",
              "       [0.0364398 , 0.        , 0.30900133, 0.85025525],\n",
              "       [0.66908503, 0.30900133, 0.        , 0.63970343],\n",
              "       [0.53547473, 0.85025525, 0.63970343, 0.        ]])"
            ]
          },
          "metadata": {},
          "execution_count": 19
        }
      ]
    },
    {
      "cell_type": "code",
      "source": [
        "rho, pval = stats.spearmanr(x2n.T, y2n.T, axis=1)"
      ],
      "metadata": {
        "id": "UWeui3hArAWS"
      },
      "execution_count": 20,
      "outputs": []
    },
    {
      "cell_type": "code",
      "source": [
        "rho"
      ],
      "metadata": {
        "colab": {
          "base_uri": "https://localhost:8080/"
        },
        "id": "iQGVIZoZrB-a",
        "outputId": "fa8775af-4314-4f4d-c28b-ed2d1cc61d11"
      },
      "execution_count": 21,
      "outputs": [
        {
          "output_type": "execute_result",
          "data": {
            "text/plain": [
              "array([[ 1.        ,  0.20950495, -0.04326433, -0.06269427],\n",
              "       [ 0.20950495,  1.        , -0.10275428,  0.01911791],\n",
              "       [-0.04326433, -0.10275428,  1.        ,  0.04738074],\n",
              "       [-0.06269427,  0.01911791,  0.04738074,  1.        ]])"
            ]
          },
          "metadata": {},
          "execution_count": 21
        }
      ]
    },
    {
      "cell_type": "code",
      "source": [
        "stats.spearmanr(x2n, y2n, axis=None)"
      ],
      "metadata": {
        "colab": {
          "base_uri": "https://localhost:8080/"
        },
        "id": "juhqkO9pqVlC",
        "outputId": "fde0c7ad-82f0-4577-c28d-cd3edb7e6065"
      },
      "execution_count": 22,
      "outputs": [
        {
          "output_type": "execute_result",
          "data": {
            "text/plain": [
              "SpearmanrResult(correlation=-0.02043201080027001, pvalue=0.7739813255119365)"
            ]
          },
          "metadata": {},
          "execution_count": 22
        }
      ]
    }
  ]
}