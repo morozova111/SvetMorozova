{
 "cells": [
  {
   "cell_type": "code",
   "execution_count": 69,
   "id": "aa594655",
   "metadata": {},
   "outputs": [],
   "source": [
    "from scipy.stats import stats\n",
    "import statistics\n",
    "import pandas as pd\n",
    "import numpy as np\n",
    "import pingouin as pg"
   ]
  },
  {
   "cell_type": "code",
   "execution_count": 2,
   "id": "e5e6f997",
   "metadata": {},
   "outputs": [],
   "source": [
    "# anova на примере датасета с генотерапией\n",
    "URL = 'https://stepik.org/media/attachments/lesson/8083/genetherapy.csv'\n",
    "data = pd.read_csv(URL)"
   ]
  },
  {
   "cell_type": "code",
   "execution_count": 3,
   "id": "ad8b895f",
   "metadata": {},
   "outputs": [
    {
     "data": {
      "text/html": [
       "<div>\n",
       "<style scoped>\n",
       "    .dataframe tbody tr th:only-of-type {\n",
       "        vertical-align: middle;\n",
       "    }\n",
       "\n",
       "    .dataframe tbody tr th {\n",
       "        vertical-align: top;\n",
       "    }\n",
       "\n",
       "    .dataframe thead th {\n",
       "        text-align: right;\n",
       "    }\n",
       "</style>\n",
       "<table border=\"1\" class=\"dataframe\">\n",
       "  <thead>\n",
       "    <tr style=\"text-align: right;\">\n",
       "      <th></th>\n",
       "      <th>expr</th>\n",
       "      <th>Therapy</th>\n",
       "    </tr>\n",
       "  </thead>\n",
       "  <tbody>\n",
       "    <tr>\n",
       "      <th>0</th>\n",
       "      <td>100</td>\n",
       "      <td>A</td>\n",
       "    </tr>\n",
       "    <tr>\n",
       "      <th>1</th>\n",
       "      <td>96</td>\n",
       "      <td>A</td>\n",
       "    </tr>\n",
       "    <tr>\n",
       "      <th>2</th>\n",
       "      <td>101</td>\n",
       "      <td>A</td>\n",
       "    </tr>\n",
       "    <tr>\n",
       "      <th>3</th>\n",
       "      <td>95</td>\n",
       "      <td>A</td>\n",
       "    </tr>\n",
       "    <tr>\n",
       "      <th>4</th>\n",
       "      <td>103</td>\n",
       "      <td>A</td>\n",
       "    </tr>\n",
       "  </tbody>\n",
       "</table>\n",
       "</div>"
      ],
      "text/plain": [
       "   expr Therapy\n",
       "0   100       A\n",
       "1    96       A\n",
       "2   101       A\n",
       "3    95       A\n",
       "4   103       A"
      ]
     },
     "execution_count": 3,
     "metadata": {},
     "output_type": "execute_result"
    }
   ],
   "source": [
    "data.head()"
   ]
  },
  {
   "cell_type": "code",
   "execution_count": 4,
   "id": "a5a97fa4",
   "metadata": {},
   "outputs": [
    {
     "data": {
      "text/plain": [
       "(60, 2)"
      ]
     },
     "execution_count": 4,
     "metadata": {},
     "output_type": "execute_result"
    }
   ],
   "source": [
    "data.shape"
   ]
  },
  {
   "cell_type": "code",
   "execution_count": 5,
   "id": "1079ae00",
   "metadata": {},
   "outputs": [
    {
     "name": "stdout",
     "output_type": "stream",
     "text": [
      "<class 'pandas.core.frame.DataFrame'>\n",
      "RangeIndex: 60 entries, 0 to 59\n",
      "Data columns (total 2 columns):\n",
      " #   Column   Non-Null Count  Dtype \n",
      "---  ------   --------------  ----- \n",
      " 0   expr     60 non-null     int64 \n",
      " 1   Therapy  60 non-null     object\n",
      "dtypes: int64(1), object(1)\n",
      "memory usage: 1.1+ KB\n"
     ]
    }
   ],
   "source": [
    "data.info()"
   ]
  },
  {
   "cell_type": "code",
   "execution_count": 6,
   "id": "1e0fb54e",
   "metadata": {},
   "outputs": [
    {
     "data": {
      "text/plain": [
       "<AxesSubplot:title={'center':'expr'}, xlabel='Therapy'>"
      ]
     },
     "execution_count": 6,
     "metadata": {},
     "output_type": "execute_result"
    },
    {
     "data": {
      "image/png": "[encoded data removed]",
      "text/plain": [
       "<Figure size 720x576 with 1 Axes>"
      ]
     },
     "metadata": {
      "needs_background": "light"
     },
     "output_type": "display_data"
    }
   ],
   "source": [
    "data.boxplot('expr', by='Therapy', figsize=(10,8), grid=True)"
   ]
  },
  {
   "cell_type": "code",
   "execution_count": 7,
   "id": "8e964083",
   "metadata": {},
   "outputs": [],
   "source": [
    "A = data[data[\"Therapy\"] == \"A\"][\"expr\"]\n",
    "B = data[data[\"Therapy\"] == \"B\"][\"expr\"]\n",
    "C = data[data[\"Therapy\"] == \"C\"][\"expr\"]\n",
    "D = data[data[\"Therapy\"] == \"D\"][\"expr\"]"
   ]
  },
  {
   "cell_type": "code",
   "execution_count": 8,
   "id": "c3ccd536",
   "metadata": {},
   "outputs": [
    {
     "name": "stdout",
     "output_type": "stream",
     "text": [
      "Среднее по группе А: 99.73\n",
      "Стандартное отклонение по группе А: 4.17\n"
     ]
    }
   ],
   "source": [
    "A = data[data[\"Therapy\"] == \"A\"][\"expr\"]\n",
    "A_Mx = sum(A)/len(A)\n",
    "A_SD = statistics.stdev(A)\n",
    "print('Среднее по группе А:',\"%.2f\" %  A_Mx)\n",
    "print('Стандартное отклонение по группе А:',\"%.2f\" %  A_SD)"
   ]
  },
  {
   "cell_type": "code",
   "execution_count": 9,
   "id": "214620de",
   "metadata": {},
   "outputs": [
    {
     "name": "stdout",
     "output_type": "stream",
     "text": [
      "Среднее по группе B: 98.80\n",
      "Стандартное отклонение по группе B: 5.89\n"
     ]
    }
   ],
   "source": [
    "B = data[data[\"Therapy\"] == \"B\"][\"expr\"]\n",
    "B_Mx = sum(B)/len(B)\n",
    "B_SD = statistics.stdev(B)\n",
    "print('Среднее по группе B:',\"%.2f\" %  B_Mx)\n",
    "print('Стандартное отклонение по группе B:',\"%.2f\" % B_SD)"
   ]
  },
  {
   "cell_type": "code",
   "execution_count": 10,
   "id": "3757a6b2",
   "metadata": {},
   "outputs": [
    {
     "name": "stdout",
     "output_type": "stream",
     "text": [
      "Среднее по группе C: 94.40\n",
      "Стандартное отклонение по группе C: 5.19\n"
     ]
    }
   ],
   "source": [
    "C = data[data[\"Therapy\"] == \"C\"][\"expr\"]\n",
    "C_Mx = sum(C)/len(C)\n",
    "C_SD = statistics.stdev(C)\n",
    "print('Среднее по группе C:',\"%.2f\" %  C_Mx)\n",
    "print('Стандартное отклонение по группе C:',\"%.2f\" % C_SD)"
   ]
  },
  {
   "cell_type": "code",
   "execution_count": 11,
   "id": "df3f0614",
   "metadata": {},
   "outputs": [
    {
     "name": "stdout",
     "output_type": "stream",
     "text": [
      "Среднее по группе D: 92.33\n",
      "Стандартное отклонение по группе D: 3.74\n"
     ]
    }
   ],
   "source": [
    "D = data[data[\"Therapy\"] == \"D\"][\"expr\"]\n",
    "D_Mx = sum(D)/len(D)\n",
    "D_SD = statistics.stdev(D)\n",
    "print('Среднее по группе D:',\"%.2f\" %  D_Mx)\n",
    "print('Стандартное отклонение по группе D:',\"%.2f\" % D_SD)"
   ]
  },
  {
   "cell_type": "code",
   "execution_count": 12,
   "id": "a310d9bc",
   "metadata": {},
   "outputs": [
    {
     "data": {
      "text/plain": [
       "96.31666666666666"
      ]
     },
     "execution_count": 12,
     "metadata": {},
     "output_type": "execute_result"
    }
   ],
   "source": [
    "X0= data[\"expr\"]\n",
    "X0=data['expr'].sum()/60\n",
    "X0"
   ]
  },
  {
   "cell_type": "code",
   "execution_count": 13,
   "id": "d08781da",
   "metadata": {},
   "outputs": [
    {
     "data": {
      "text/plain": [
       "560.7166666666667"
      ]
     },
     "execution_count": 13,
     "metadata": {},
     "output_type": "execute_result"
    }
   ],
   "source": [
    "SSB= (15*(A_Mx-X0)**2)+(15*(B_Mx-X0)**2)+(15*(C_Mx-X0)**2)+(15*(D_Mx-X0)**2)\n",
    "#СРЕДНЕЕ МЕЖДУ ГРУПП\n",
    "SSB"
   ]
  },
  {
   "cell_type": "code",
   "execution_count": 54,
   "id": "078c37bc",
   "metadata": {},
   "outputs": [
    {
     "name": "stdout",
     "output_type": "stream",
     "text": [
      "DA 93.01904761904761\n",
      "SSW 1302.2666666666667\n"
     ]
    }
   ],
   "source": [
    "# SSW можно расчитать как квадрат дисперсии по каждой группе умноженный на количество эламентов в групппе минус 1.\n",
    "#В нашем случае это 15 элементов в каждой группе минус 1 равно 14.\n",
    "DA = (A_SD**2)+(B_SD**2)+(C_SD**2)+(D_SD**2)\n",
    "print('DA', DA)\n",
    "SSW = DA*14\n",
    "print('SSW', SSW)"
   ]
  },
  {
   "cell_type": "code",
   "execution_count": 52,
   "id": "ad42299f",
   "metadata": {},
   "outputs": [
    {
     "data": {
      "text/plain": [
       "8.037302481143989"
      ]
     },
     "execution_count": 52,
     "metadata": {},
     "output_type": "execute_result"
    }
   ],
   "source": [
    "F=(SSB/3)/(SSW/56)\n",
    "F"
   ]
  },
  {
   "cell_type": "code",
   "execution_count": 55,
   "id": "d82005d5",
   "metadata": {},
   "outputs": [],
   "source": [
    "pd.set_option('display.float_format', lambda x: '%.5f' % x)"
   ]
  },
  {
   "cell_type": "code",
   "execution_count": 57,
   "id": "e01d7edb",
   "metadata": {},
   "outputs": [
    {
     "data": {
      "text/html": [
       "<div>\n",
       "<style scoped>\n",
       "    .dataframe tbody tr th:only-of-type {\n",
       "        vertical-align: middle;\n",
       "    }\n",
       "\n",
       "    .dataframe tbody tr th {\n",
       "        vertical-align: top;\n",
       "    }\n",
       "\n",
       "    .dataframe thead th {\n",
       "        text-align: right;\n",
       "    }\n",
       "</style>\n",
       "<table border=\"1\" class=\"dataframe\">\n",
       "  <thead>\n",
       "    <tr style=\"text-align: right;\">\n",
       "      <th></th>\n",
       "      <th>N</th>\n",
       "      <th>Mx</th>\n",
       "      <th>SD</th>\n",
       "    </tr>\n",
       "    <tr>\n",
       "      <th>Therapy</th>\n",
       "      <th></th>\n",
       "      <th></th>\n",
       "      <th></th>\n",
       "    </tr>\n",
       "  </thead>\n",
       "  <tbody>\n",
       "    <tr>\n",
       "      <th>A</th>\n",
       "      <td>15</td>\n",
       "      <td>99.73333</td>\n",
       "      <td>4.16562</td>\n",
       "    </tr>\n",
       "    <tr>\n",
       "      <th>B</th>\n",
       "      <td>15</td>\n",
       "      <td>98.80000</td>\n",
       "      <td>5.89431</td>\n",
       "    </tr>\n",
       "    <tr>\n",
       "      <th>C</th>\n",
       "      <td>15</td>\n",
       "      <td>94.40000</td>\n",
       "      <td>5.19340</td>\n",
       "    </tr>\n",
       "    <tr>\n",
       "      <th>D</th>\n",
       "      <td>15</td>\n",
       "      <td>92.33333</td>\n",
       "      <td>3.73529</td>\n",
       "    </tr>\n",
       "  </tbody>\n",
       "</table>\n",
       "</div>"
      ],
      "text/plain": [
       "          N       Mx      SD\n",
       "Therapy                     \n",
       "A        15 99.73333 4.16562\n",
       "B        15 98.80000 5.89431\n",
       "C        15 94.40000 5.19340\n",
       "D        15 92.33333 3.73529"
      ]
     },
     "execution_count": 57,
     "metadata": {},
     "output_type": "execute_result"
    }
   ],
   "source": [
    "# anova в 4 строки\n",
    "stat_data = data.groupby(\"Therapy\").agg([\"count\", \"mean\",\"std\"])\n",
    "stat_data.columns=[\"N\",\"Mx\",\"SD\"]\n",
    "stat_data"
   ]
  },
  {
   "cell_type": "code",
   "execution_count": 68,
   "id": "804cbb7e",
   "metadata": {},
   "outputs": [
    {
     "data": {
      "text/html": [
       "<div>\n",
       "<style scoped>\n",
       "    .dataframe tbody tr th:only-of-type {\n",
       "        vertical-align: middle;\n",
       "    }\n",
       "\n",
       "    .dataframe tbody tr th {\n",
       "        vertical-align: top;\n",
       "    }\n",
       "\n",
       "    .dataframe thead th {\n",
       "        text-align: right;\n",
       "    }\n",
       "</style>\n",
       "<table border=\"1\" class=\"dataframe\">\n",
       "  <thead>\n",
       "    <tr style=\"text-align: right;\">\n",
       "      <th></th>\n",
       "      <th>Source</th>\n",
       "      <th>SS</th>\n",
       "      <th>DF</th>\n",
       "      <th>MS</th>\n",
       "      <th>F</th>\n",
       "      <th>p-unc</th>\n",
       "      <th>np2</th>\n",
       "    </tr>\n",
       "  </thead>\n",
       "  <tbody>\n",
       "    <tr>\n",
       "      <th>0</th>\n",
       "      <td>Therapy</td>\n",
       "      <td>560.71667</td>\n",
       "      <td>3</td>\n",
       "      <td>186.90556</td>\n",
       "      <td>8.03730</td>\n",
       "      <td>0.00015</td>\n",
       "      <td>0.30098</td>\n",
       "    </tr>\n",
       "    <tr>\n",
       "      <th>1</th>\n",
       "      <td>Within</td>\n",
       "      <td>1302.26667</td>\n",
       "      <td>56</td>\n",
       "      <td>23.25476</td>\n",
       "      <td>NaN</td>\n",
       "      <td>NaN</td>\n",
       "      <td>NaN</td>\n",
       "    </tr>\n",
       "  </tbody>\n",
       "</table>\n",
       "</div>"
      ],
      "text/plain": [
       "    Source         SS  DF        MS       F   p-unc     np2\n",
       "0  Therapy  560.71667   3 186.90556 8.03730 0.00015 0.30098\n",
       "1   Within 1302.26667  56  23.25476     NaN     NaN     NaN"
      ]
     },
     "execution_count": 68,
     "metadata": {},
     "output_type": "execute_result"
    }
   ],
   "source": [
    "pg.anova(data=data, dv = 'expr',between ='Therapy',detailed=True )"
   ]
  },
  {
   "cell_type": "code",
   "execution_count": null,
   "id": "aa3af34d",
   "metadata": {},
   "outputs": [],
   "source": []
  },
  {
   "cell_type": "code",
   "execution_count": null,
   "id": "eb80e2b1",
   "metadata": {},
   "outputs": [],
   "source": []
  }
 ],
 "metadata": {
  "kernelspec": {
   "display_name": "Python 3 (ipykernel)",
   "language": "python",
   "name": "python3"
  },
  "language_info": {
   "codemirror_mode": {
    "name": "ipython",
    "version": 3
   },
   "file_extension": ".py",
   "mimetype": "text/x-python",
   "name": "python",
   "nbconvert_exporter": "python",
   "pygments_lexer": "ipython3",
   "version": "3.9.12"
  }
 },
 "nbformat": 4,
 "nbformat_minor": 5
}
