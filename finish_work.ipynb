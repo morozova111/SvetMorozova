{
 "cells": [
  {
   "cell_type": "code",
   "execution_count": 1,
   "id": "5e069df6",
   "metadata": {},
   "outputs": [
    {
     "name": "stdout",
     "output_type": "stream",
     "text": [
      "Success: the bamboolib extension was enabled successfully. You can disable it via 'bam.disable()'. You will now see a magic bamboolib button when you display your dataframes, for example via 'df'\n"
     ]
    }
   ],
   "source": [
    "import bamboolib as bam\n",
    "bam.enable()"
   ]
  },
  {
   "cell_type": "code",
   "execution_count": 2,
   "id": "01ed7957",
   "metadata": {},
   "outputs": [],
   "source": [
    "import pandas as pd\n",
    "import os\n",
    "import glob"
   ]
  },
  {
   "cell_type": "code",
   "execution_count": 3,
   "id": "3ef07fc3",
   "metadata": {},
   "outputs": [],
   "source": [
    "os.chdir('C:/Users/Светлана/Desktop/РАНХИС/Итоговая')"
   ]
  },
  {
   "cell_type": "code",
   "execution_count": 4,
   "id": "48e18925",
   "metadata": {},
   "outputs": [
    {
     "data": {
      "application/vnd.jupyter.widget-view+json": {
       "model_id": "4087185ce4d04ea98617a5a07575feeb"
      },
      "text/plain": [
       "       OrderNumber  OrderDate    Channel Currency Code Warehouse Code  \\\n",
       "0      SO - 000105 2014-06-01  Wholesale           USD         AXW291   \n",
       "1      SO - 000120 2014-06-02  Wholesale           USD         AXW291   \n",
       "2      SO - 000126 2014-06-03  Wholesale           USD         AXW291   \n",
       "3      SO - 000153 2014-06-06  Wholesale           USD         AXW291   \n",
       "4      SO - 000172 2014-06-09  Wholesale           USD         AXW291   \n",
       "...            ...        ...        ...           ...            ...   \n",
       "7995  SO - 0007921 2016-12-10     Export           USD         FLR025   \n",
       "7996  SO - 0007924 2016-12-11     Export           USD         FLR025   \n",
       "7997  SO - 0007931 2016-12-13     Export           USD         FLR025   \n",
       "7998  SO - 0008040 2016-12-25     Export           USD         FLR025   \n",
       "7999  SO - 0008087 2016-12-31     Export           USD         FLR025   \n",
       "\n",
       "      Delivery Region Index  Product Description Index  Order Quantity  \\\n",
       "0                        20                          7               6   \n",
       "1                        25                          7               8   \n",
       "2                        20                          7              11   \n",
       "3                        20                          7              11   \n",
       "4                        18                          7               6   \n",
       "...                     ...                        ...             ...   \n",
       "7995                     60                          2               7   \n",
       "7996                     63                          1              10   \n",
       "7997                     63                          1              12   \n",
       "7998                     62                          7              10   \n",
       "7999                     61                         11               6   \n",
       "\n",
       "      Unit Price  Line Total  Total Unit Cost  Customer Name Index  \n",
       "0         1822.4     10934.4         1476.144                   49  \n",
       "1         3095.4     24763.2         1795.332                   23  \n",
       "2          174.2      1916.2           95.810                   46  \n",
       "3         3926.2     43188.2         3062.436                    8  \n",
       "4         1005.0      6030.0          743.700                    6  \n",
       "...          ...         ...              ...                  ...  \n",
       "7995      6050.1     42350.7         3509.058                   24  \n",
       "7996       268.0      2680.0          217.080                   39  \n",
       "7997       951.4     11416.8          694.522                   19  \n",
       "7998       837.5      8375.0          335.000                   16  \n",
       "7999       234.5      1407.0          121.940                   41  \n",
       "\n",
       "[8000 rows x 12 columns]"
      ]
     },
     "metadata": {},
     "output_type": "display_data"
    }
   ],
   "source": [
    "df_1=pd.read_excel('box_4.xlsx', sheet_name= 'Sales' )\n",
    "df_1"
   ]
  },
  {
   "cell_type": "code",
   "execution_count": 5,
   "id": "d34e5b15",
   "metadata": {
    "scrolled": true
   },
   "outputs": [
    {
     "data": {
      "application/vnd.jupyter.widget-view+json": {
       "model_id": "3c127b8b4e3b4b59880ae8462dde23e1"
      },
      "text/plain": [
       "    Index                    City  Country  Region Sales   Region Group  \\\n",
       "0       1                  LONDON       UK     1870700.3  Lower Regions   \n",
       "1       2                  BERLIN  Germany     1918498.1  Lower Regions   \n",
       "2       3                  MADRID    Spain     2458672.2    Top Regions   \n",
       "3       4                    ROMA    Italy     2550696.7    Top Regions   \n",
       "4       5                    KIEV  Ukraine     2701319.4    Top Regions   \n",
       "..    ...                     ...      ...           ...            ...   \n",
       "61     62                Duisburg  Germany     2689721.7    Top Regions   \n",
       "62     63                Hannover  Germany     2232051.4    Mid Regions   \n",
       "63     64                Mykolaiv  Ukraine     2384416.1    Top Regions   \n",
       "64     65                    OSLO   Norway     2327653.7    Top Regions   \n",
       "65     66  KOBENHAVN (Copenhagen)  Denmark     2588310.5    Top Regions   \n",
       "\n",
       "                          Full Name  \n",
       "0                        LONDON, UK  \n",
       "1                   BERLIN, Germany  \n",
       "2                     MADRID, Spain  \n",
       "3                       ROMA, Italy  \n",
       "4                     KIEV, Ukraine  \n",
       "..                              ...  \n",
       "61                Duisburg, Germany  \n",
       "62                Hannover, Germany  \n",
       "63                Mykolaiv, Ukraine  \n",
       "64                     OSLO, Norway  \n",
       "65  KOBENHAVN (Copenhagen), Denmark  \n",
       "\n",
       "[66 rows x 6 columns]"
      ]
     },
     "metadata": {},
     "output_type": "display_data"
    }
   ],
   "source": [
    "df_2 = pd.read_excel('box_4.xlsx', sheet_name= \"Region\" )\n",
    "df_2"
   ]
  },
  {
   "cell_type": "code",
   "execution_count": 6,
   "id": "173f1737",
   "metadata": {},
   "outputs": [
    {
     "data": {
      "application/vnd.jupyter.widget-view+json": {
       "model_id": "362bfbbb1c0b4be7aa7680a68c7c6544"
      },
      "text/plain": [
       "    Index Product Name  Product Sales\n",
       "0       1    Product 1     25571548.3\n",
       "1       2    Product 2     22913892.8\n",
       "2       3    Product 3      3066281.8\n",
       "3       4    Product 4      2857288.7\n",
       "4       5    Product 5     17047098.1\n",
       "5       6    Product 6      3341216.3\n",
       "6       7    Product 7     25715986.9\n",
       "7       8    Product 8      3215604.7\n",
       "8       9    Product 9      9261644.5\n",
       "9      10   Product 10      3115647.4\n",
       "10     11   Product 11     20621809.4\n",
       "11     12   Product 12      3109289.1\n",
       "12     13   Product 13     11774660.4\n",
       "13     14   Product 14      3144263.1"
      ]
     },
     "metadata": {},
     "output_type": "display_data"
    }
   ],
   "source": [
    "df_3 = pd.read_excel('box_4.xlsx', sheet_name= \"Products\" )\n",
    "df_3"
   ]
  },
  {
   "cell_type": "code",
   "execution_count": 47,
   "id": "da6d8cf3",
   "metadata": {},
   "outputs": [
    {
     "data": {
      "application/vnd.jupyter.widget-view+json": {
       "model_id": "e5cdd0ae61234f02922b9c28e3690685"
      },
      "text/plain": [
       "    Customer Index   Customer Names  Customer Sales\n",
       "0                1        Avon Corp       2694766.8\n",
       "1                2         WakeFern       2364959.3\n",
       "2                3     Elorac, Corp       3209956.6\n",
       "3                4        ETUDE Ltd       3288018.3\n",
       "4                5     Procter Corp       2974210.4\n",
       "5                6    PEDIFIX, Corp       2818200.9\n",
       "6                7          New Ltd       2862005.5\n",
       "7                8     Medsep Group       2825812.1\n",
       "8                9               Ei       3273653.5\n",
       "9               10         21st Ltd       3170111.7\n",
       "10              11       Apollo Ltd       3600358.9\n",
       "11              12          Medline       4081485.9\n",
       "12              13        Ole Group       3462881.6\n",
       "13              14            Linde       3314610.6\n",
       "14              15    Rochester Ltd       3039903.9\n",
       "15              16        3LAB, Ltd       2756440.3\n",
       "16              17       Pure Group       3821592.9\n",
       "17              18    Eminence Corp       3643426.5\n",
       "18              19        Qualitest       3002497.8\n",
       "19              20      Pacific Ltd       2834636.0\n",
       "20              21             Ohio       3347681.8\n",
       "21              22          Capweld       2939511.1\n",
       "22              23           E. Ltd       3158192.4\n",
       "23              24      Burt's Corp       2956435.3\n",
       "24              25     Prasco Group       3215933.0\n",
       "25              26       Mylan Corp       2688361.6\n",
       "26              27       Wuxi Group       2584592.0\n",
       "27              28       Dharma Ltd       2894145.4\n",
       "28              29    Apotheca, Ltd       3608492.7\n",
       "29              30     S.S.S. Group       2830234.1\n",
       "30              31      Uriel Group       2871251.5\n",
       "31              32      OHTA'S Corp       3533801.1\n",
       "32              33           Trigen       3001827.8\n",
       "33              34          OUR Ltd       3676035.4\n",
       "34              35     Amylin Group       2692575.9\n",
       "35              36         O.E. Ltd       3188148.1\n",
       "36              37  AuroMedics Corp       2881067.0\n",
       "37              38       Ascend Ltd       2773974.2\n",
       "38              39      Victory Ltd       3407814.3\n",
       "39              40           Select       2940770.7\n",
       "40              41      Weimei Corp       3166426.7\n",
       "41              42      Llorens Ltd       3003623.4\n",
       "42              43   Exact-Rx, Corp       3081430.5\n",
       "43              44         Winthrop       2831741.6\n",
       "44              45            Nipro       3216770.5\n",
       "45              46         U.S. Ltd       2938130.9\n",
       "46              47   Niconovum Corp       2873388.8\n",
       "47              48     Fenwal, Corp       3244990.9\n",
       "48              49             Bare       2973573.9\n",
       "49              50          Sundial       3195779.4"
      ]
     },
     "metadata": {},
     "output_type": "display_data"
    }
   ],
   "source": [
    "df_4 = pd.read_excel('box_4.xlsx', sheet_name= \"Customers\" )\n",
    "df_4"
   ]
  },
  {
   "cell_type": "code",
   "execution_count": 45,
   "id": "194ff01f",
   "metadata": {},
   "outputs": [
    {
     "data": {
      "application/vnd.jupyter.widget-view+json": {
       "model_id": "fabc5064be5f465a8bcf2ab7cac9dfac"
      },
      "text/plain": [
       "   Customer Index Customer Names  Customer Sales\n",
       "0               1      Avon Corp       2694766.8\n",
       "1               2       WakeFern       2364959.3\n",
       "2               3   Elorac, Corp       3209956.6\n",
       "3               4      ETUDE Ltd       3288018.3\n",
       "4               5   Procter Corp       2974210.4"
      ]
     },
     "metadata": {},
     "output_type": "display_data"
    }
   ],
   "source": [
    "df_4 = df_4.drop_duplicates()\n",
    "df_4.head(5)\n"
   ]
  },
  {
   "cell_type": "code",
   "execution_count": 46,
   "id": "db9c0353",
   "metadata": {},
   "outputs": [
    {
     "data": {
      "text/plain": [
       "Customer Index    50\n",
       "Customer Names    50\n",
       "Customer Sales    50\n",
       "dtype: int64"
      ]
     },
     "execution_count": 46,
     "metadata": {},
     "output_type": "execute_result"
    }
   ],
   "source": [
    "df_4.count()"
   ]
  },
  {
   "cell_type": "code",
   "execution_count": null,
   "id": "a1a91177",
   "metadata": {},
   "outputs": [],
   "source": []
  }
 ],
 "metadata": {
  "celltoolbar": "Необработанный формат ячейки",
  "kernelspec": {
   "display_name": "bamboolib",
   "language": "python",
   "name": "bamboolib"
  },
  "language_info": {
   "codemirror_mode": {
    "name": "ipython",
    "version": 3
   },
   "file_extension": ".py",
   "mimetype": "text/x-python",
   "name": "python",
   "nbconvert_exporter": "python",
   "pygments_lexer": "ipython3",
   "version": "3.9.12"
  }
 },
 "nbformat": 4,
 "nbformat_minor": 5
}
